{
  "nbformat": 4,
  "nbformat_minor": 0,
  "metadata": {
    "colab": {
      "name": "OverpassScript_Local.ipynb",
      "provenance": []
    },
    "kernelspec": {
      "name": "python3",
      "display_name": "Python 3"
    },
    "language_info": {
      "name": "python"
    }
  },
  "cells": [
    {
      "cell_type": "code",
      "metadata": {
        "id": "3MvFbRv1ejR8"
      },
      "source": [
        "# Downloading the required packages\n",
        "!pip install pymsteams\n",
        "!pip install google_spreadsheet\n",
        "!pip install google-auth-oauthlib"
      ],
      "execution_count": null,
      "outputs": []
    },
    {
      "cell_type": "code",
      "metadata": {
        "id": "ioY3SYR_hpom"
      },
      "source": [
        "# Use this only if you are running this code on Google Colab\n",
        "from google.colab import drive\n",
        "drive.mount('/content/drive')"
      ],
      "execution_count": null,
      "outputs": []
    },
    {
      "cell_type": "code",
      "metadata": {
        "id": "SnGNq3U9qzBg"
      },
      "source": [
        "# Importing the required packages\n",
        "import requests\n",
        "import pandas as pd\n",
        "import urllib \n",
        "from urllib.request import urlopen\n",
        "import ssl\n",
        "import json\n",
        "from pandas.io.json import json_normalize\n",
        "\n",
        "# SSL verification\n",
        "ssl._create_default_https_context = ssl._create_unverified_context"
      ],
      "execution_count": null,
      "outputs": []
    },
    {
      "cell_type": "code",
      "metadata": {
        "id": "7Zok7AScqy-k"
      },
      "source": [
        "# First way to download the data\n",
        "url = \"https://data.epa.ie/bw/api/v1/Alerts\"  # I am using a public open source URL for this project\n",
        "response = requests.get(url)\n",
        "data = response.json()"
      ],
      "execution_count": null,
      "outputs": []
    },
    {
      "cell_type": "code",
      "metadata": {
        "id": "YWQNPa-5fW9G"
      },
      "source": [
        "# An Alternative solution to download the data\n",
        "# Create a function to get data from the API link\n",
        "def getjson(sourceurl):\n",
        "  html = urlopen(sourceurl)\n",
        "  contents = html.read()\n",
        "  contents = json.loads(contents.decode('utf-8'))\n",
        "  html = urlopen(sourceurl + \"?page=1&per_page={per_page}\".format(per_page=contents['count']))\n",
        "  contents = html.read()\n",
        "  contents = json.loads(contents.decode('utf-8'))\n",
        "  df1 = json_normalize(contents[\"list\"])  # Writing Json data to Pandas Dataframe\n",
        "  return df1"
      ],
      "execution_count": null,
      "outputs": []
    },
    {
      "cell_type": "code",
      "metadata": {
        "id": "giWwLYZjf1BQ"
      },
      "source": [
        "# Storing the data to a CSV File\n",
        "alerts_data = getjson(\"https://data.epa.ie/bw/api/v1/Alerts\")\n",
        "alerts_data.to_csv('Path pointing the location you want to save your file to!')"
      ],
      "execution_count": null,
      "outputs": []
    },
    {
      "cell_type": "code",
      "metadata": {
        "id": "ZlEuGXqgf09s"
      },
      "source": [
        "# For Storing data to Google sheets you would need these Credentials. Look up at the guide for steps.\n",
        "scopes = ['https://spreadsheets.google.com/feeds',\n",
        "          'https://www.googleapis.com/auth/drive',]\n",
        "\n",
        "credentials = ServiceAccountCredentials.from_json_keyfile_name('File path to the api key in json!',scopes=scopes)\n",
        "sheetid = 'Paste your google sheet ID here'"
      ],
      "execution_count": null,
      "outputs": []
    },
    {
      "cell_type": "code",
      "metadata": {
        "id": "HIsUrMyqf06a"
      },
      "source": [
        "# Details of the sheet you want to store the data to\n",
        "service = discovery.build('sheets', 'v4', credentials=credentials)\n",
        "range_name=\"Sheet1!A1:D1\"\n",
        "body = {\n",
        "    'majorDimension' : 'ROWS',\n",
        "    'values': data.values.tolist()\n",
        "}"
      ],
      "execution_count": null,
      "outputs": []
    },
    {
      "cell_type": "code",
      "metadata": {
        "id": "_aYK3QwagGNV"
      },
      "source": [
        "# This part will keep appending new data to your Google Sheet\n",
        "service.spreadsheets().values().append(\n",
        "    spreadsheetId=sheetid, range=range_name, valueInputOption='USER_ENTERED',\n",
        "    insertDataOption='INSERT_ROWS', body=body).execute()"
      ],
      "execution_count": null,
      "outputs": []
    },
    {
      "cell_type": "code",
      "metadata": {
        "id": "vHwGzl18gGJz"
      },
      "source": [
        "# You can also send Notifications for data updates to teams\n",
        "myTeamsMessage = pymsteams.connectorcard(\"write your connector card URL here!\")\n",
        "myTeamsMessage.text(data.to_html())\n",
        "myTeamsMessage.send()"
      ],
      "execution_count": null,
      "outputs": []
    },
    {
      "cell_type": "code",
      "metadata": {
        "id": "0sqOFvXKh6uR"
      },
      "source": [
        ""
      ],
      "execution_count": null,
      "outputs": []
    }
  ]
}
